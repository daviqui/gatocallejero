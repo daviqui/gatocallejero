{
 "cells": [
  {
   "cell_type": "code",
   "execution_count": 1,
   "metadata": {
    "collapsed": false
   },
   "outputs": [],
   "source": [
    "import csv\n",
    "import pandas as pd\n",
    "import matplotlib.pyplot as plt\n",
    "from sklearn import cluster\n",
    "%matplotlib inline"
   ]
  },
  {
   "cell_type": "code",
   "execution_count": 2,
   "metadata": {
    "collapsed": false
   },
   "outputs": [],
   "source": [
    "pedro = pd.read_csv(r\"C:\\Users\\bigdata\\Desktop\\pedro7.csv\")"
   ]
  },
  {
   "cell_type": "code",
   "execution_count": 3,
   "metadata": {
    "collapsed": false,
    "scrolled": true
   },
   "outputs": [
    {
     "data": {
      "text/html": [
       "<div>\n",
       "<table border=\"1\" class=\"dataframe\">\n",
       "  <thead>\n",
       "    <tr style=\"text-align: right;\">\n",
       "      <th></th>\n",
       "      <th>TIPIFICACION</th>\n",
       "      <th>FECHA_DE_AVISO</th>\n",
       "      <th>DIA</th>\n",
       "      <th>MES</th>\n",
       "      <th>HORA_AVISO</th>\n",
       "      <th>COLONIA_SUCESO</th>\n",
       "      <th>oxxo</th>\n",
       "    </tr>\n",
       "  </thead>\n",
       "  <tbody>\n",
       "    <tr>\n",
       "      <th>0</th>\n",
       "      <td>1</td>\n",
       "      <td>41471</td>\n",
       "      <td>2</td>\n",
       "      <td>7</td>\n",
       "      <td>0.917361</td>\n",
       "      <td>1</td>\n",
       "      <td>0</td>\n",
       "    </tr>\n",
       "    <tr>\n",
       "      <th>1</th>\n",
       "      <td>1</td>\n",
       "      <td>41523</td>\n",
       "      <td>2</td>\n",
       "      <td>9</td>\n",
       "      <td>0.847222</td>\n",
       "      <td>1</td>\n",
       "      <td>0</td>\n",
       "    </tr>\n",
       "    <tr>\n",
       "      <th>2</th>\n",
       "      <td>1</td>\n",
       "      <td>41289</td>\n",
       "      <td>2</td>\n",
       "      <td>1</td>\n",
       "      <td>0.387500</td>\n",
       "      <td>2</td>\n",
       "      <td>1</td>\n",
       "    </tr>\n",
       "    <tr>\n",
       "      <th>3</th>\n",
       "      <td>1</td>\n",
       "      <td>41489</td>\n",
       "      <td>6</td>\n",
       "      <td>8</td>\n",
       "      <td>0.511111</td>\n",
       "      <td>3</td>\n",
       "      <td>7</td>\n",
       "    </tr>\n",
       "    <tr>\n",
       "      <th>4</th>\n",
       "      <td>1</td>\n",
       "      <td>41578</td>\n",
       "      <td>4</td>\n",
       "      <td>10</td>\n",
       "      <td>0.590278</td>\n",
       "      <td>3</td>\n",
       "      <td>7</td>\n",
       "    </tr>\n",
       "  </tbody>\n",
       "</table>\n",
       "</div>"
      ],
      "text/plain": [
       "   TIPIFICACION  FECHA_DE_AVISO  DIA  MES  HORA_AVISO  COLONIA_SUCESO  oxxo\n",
       "0             1           41471    2    7    0.917361               1     0\n",
       "1             1           41523    2    9    0.847222               1     0\n",
       "2             1           41289    2    1    0.387500               2     1\n",
       "3             1           41489    6    8    0.511111               3     7\n",
       "4             1           41578    4   10    0.590278               3     7"
      ]
     },
     "execution_count": 3,
     "metadata": {},
     "output_type": "execute_result"
    }
   ],
   "source": [
    "pedro.head()\n"
   ]
  },
  {
   "cell_type": "code",
   "execution_count": 4,
   "metadata": {
    "collapsed": false
   },
   "outputs": [
    {
     "data": {
      "image/png": "[encoded data removed]",
      "text/plain": [
       "<matplotlib.figure.Figure at 0x7e10fb0>"
      ]
     },
     "metadata": {},
     "output_type": "display_data"
    }
   ],
   "source": [
    "# K-means clustering based on longitude-latitude\n",
    "kmeans = cluster.KMeans(3)  #definimos el numero de clusters\n",
    "kmeans.fit(pedro[['HORA_AVISO', 'DIA']]) #definimos variables con las que  sera los clusters\n",
    "labels = kmeans.labels_   #Nosé\n",
    "plt.scatter(pedro['HORA_AVISO'], pedro['DIA'], c=labels)  #graficar y ejes\n",
    "plt.show()\n",
    "# Try different values for K"
   ]
  },
  {
   "cell_type": "code",
   "execution_count": 5,
   "metadata": {
    "collapsed": false,
    "scrolled": false
   },
   "outputs": [
    {
     "data": {
      "image/png": "[encoded data removed]",
      "text/plain": [
       "<matplotlib.figure.Figure at 0x7eee3f0>"
      ]
     },
     "metadata": {},
     "output_type": "display_data"
    },
    {
     "name": "stdout",
     "output_type": "stream",
     "text": [
      "[[ 24.27906977]\n",
      " [  7.76      ]\n",
      " [ 34.525     ]]\n"
     ]
    }
   ],
   "source": [
    "# k-means clustering based on temperature#lomismo pero aca nos da las coordenadas de los centroides\n",
    "kmeans = cluster.KMeans(3)\n",
    "kmeans.fit(pedro[['COLONIA_SUCESO']])\n",
    "labels = kmeans.labels_\n",
    "centroids = kmeans.cluster_centers_\n",
    "plt.scatter(pedro['HORA_AVISO'], pedro['DIA'], c=labels)\n",
    "plt.show()\n",
    "print (centroids)"
   ]
  },
  {
   "cell_type": "code",
   "execution_count": 6,
   "metadata": {
    "collapsed": false
   },
   "outputs": [
    {
     "data": {
      "text/html": [
       "<div>\n",
       "<table border=\"1\" class=\"dataframe\">\n",
       "  <thead>\n",
       "    <tr style=\"text-align: right;\">\n",
       "      <th></th>\n",
       "      <th>TIPIFICACION</th>\n",
       "      <th>FECHA_DE_AVISO</th>\n",
       "      <th>DIA</th>\n",
       "      <th>MES</th>\n",
       "      <th>HORA_AVISO</th>\n",
       "      <th>COLONIA_SUCESO</th>\n",
       "      <th>oxxo</th>\n",
       "    </tr>\n",
       "  </thead>\n",
       "  <tbody>\n",
       "    <tr>\n",
       "      <th>count</th>\n",
       "      <td>148.0</td>\n",
       "      <td>148.000000</td>\n",
       "      <td>148.000000</td>\n",
       "      <td>148.000000</td>\n",
       "      <td>148.000000</td>\n",
       "      <td>148.000000</td>\n",
       "      <td>148.000000</td>\n",
       "    </tr>\n",
       "    <tr>\n",
       "      <th>mean</th>\n",
       "      <td>1.0</td>\n",
       "      <td>41481.168919</td>\n",
       "      <td>4.621622</td>\n",
       "      <td>7.331081</td>\n",
       "      <td>0.578730</td>\n",
       "      <td>27.027027</td>\n",
       "      <td>0.108108</td>\n",
       "    </tr>\n",
       "    <tr>\n",
       "      <th>std</th>\n",
       "      <td>0.0</td>\n",
       "      <td>94.929934</td>\n",
       "      <td>2.170944</td>\n",
       "      <td>3.086923</td>\n",
       "      <td>0.330970</td>\n",
       "      <td>10.561093</td>\n",
       "      <td>0.817622</td>\n",
       "    </tr>\n",
       "    <tr>\n",
       "      <th>min</th>\n",
       "      <td>1.0</td>\n",
       "      <td>41275.000000</td>\n",
       "      <td>1.000000</td>\n",
       "      <td>1.000000</td>\n",
       "      <td>0.005556</td>\n",
       "      <td>1.000000</td>\n",
       "      <td>0.000000</td>\n",
       "    </tr>\n",
       "    <tr>\n",
       "      <th>25%</th>\n",
       "      <td>1.0</td>\n",
       "      <td>41398.750000</td>\n",
       "      <td>2.000000</td>\n",
       "      <td>5.000000</td>\n",
       "      <td>0.299479</td>\n",
       "      <td>21.750000</td>\n",
       "      <td>0.000000</td>\n",
       "    </tr>\n",
       "    <tr>\n",
       "      <th>50%</th>\n",
       "      <td>1.0</td>\n",
       "      <td>41496.500000</td>\n",
       "      <td>5.000000</td>\n",
       "      <td>8.000000</td>\n",
       "      <td>0.648958</td>\n",
       "      <td>32.000000</td>\n",
       "      <td>0.000000</td>\n",
       "    </tr>\n",
       "    <tr>\n",
       "      <th>75%</th>\n",
       "      <td>1.0</td>\n",
       "      <td>41545.500000</td>\n",
       "      <td>7.000000</td>\n",
       "      <td>9.250000</td>\n",
       "      <td>0.874306</td>\n",
       "      <td>32.000000</td>\n",
       "      <td>0.000000</td>\n",
       "    </tr>\n",
       "    <tr>\n",
       "      <th>max</th>\n",
       "      <td>1.0</td>\n",
       "      <td>41638.000000</td>\n",
       "      <td>7.000000</td>\n",
       "      <td>12.000000</td>\n",
       "      <td>0.997917</td>\n",
       "      <td>42.000000</td>\n",
       "      <td>7.000000</td>\n",
       "    </tr>\n",
       "  </tbody>\n",
       "</table>\n",
       "</div>"
      ],
      "text/plain": [
       "       TIPIFICACION  FECHA_DE_AVISO         DIA         MES  HORA_AVISO  \\\n",
       "count         148.0      148.000000  148.000000  148.000000  148.000000   \n",
       "mean            1.0    41481.168919    4.621622    7.331081    0.578730   \n",
       "std             0.0       94.929934    2.170944    3.086923    0.330970   \n",
       "min             1.0    41275.000000    1.000000    1.000000    0.005556   \n",
       "25%             1.0    41398.750000    2.000000    5.000000    0.299479   \n",
       "50%             1.0    41496.500000    5.000000    8.000000    0.648958   \n",
       "75%             1.0    41545.500000    7.000000    9.250000    0.874306   \n",
       "max             1.0    41638.000000    7.000000   12.000000    0.997917   \n",
       "\n",
       "       COLONIA_SUCESO        oxxo  \n",
       "count      148.000000  148.000000  \n",
       "mean        27.027027    0.108108  \n",
       "std         10.561093    0.817622  \n",
       "min          1.000000    0.000000  \n",
       "25%         21.750000    0.000000  \n",
       "50%         32.000000    0.000000  \n",
       "75%         32.000000    0.000000  \n",
       "max         42.000000    7.000000  "
      ]
     },
     "execution_count": 6,
     "metadata": {},
     "output_type": "execute_result"
    }
   ],
   "source": [
    "pedro.describe()"
   ]
  },
  {
   "cell_type": "code",
   "execution_count": 1,
   "metadata": {
    "collapsed": true
   },
   "outputs": [],
   "source": [
    "import csv\n",
    "import pandas as pd\n",
    "import numpy as np\n",
    "import matplotlib.pyplot as plt\n",
    "%matplotlib inline"
   ]
  },
  {
   "cell_type": "code",
   "execution_count": 7,
   "metadata": {
    "collapsed": false
   },
   "outputs": [],
   "source": [
    "#Regresión lineal\n",
    "pedro2 = pd.read_csv(r\"C:\\Users\\bigdata\\Desktop\\pedro9.csv\", encoding = \"latin-1\")"
   ]
  },
  {
   "cell_type": "code",
   "execution_count": 9,
   "metadata": {
    "collapsed": false
   },
   "outputs": [
    {
     "data": {
      "text/html": [
       "<div>\n",
       "<table border=\"1\" class=\"dataframe\">\n",
       "  <thead>\n",
       "    <tr style=\"text-align: right;\">\n",
       "      <th></th>\n",
       "      <th>tipificaciones</th>\n",
       "      <th>oxxo</th>\n",
       "    </tr>\n",
       "  </thead>\n",
       "  <tbody>\n",
       "    <tr>\n",
       "      <th>count</th>\n",
       "      <td>42.000000</td>\n",
       "      <td>42.000000</td>\n",
       "    </tr>\n",
       "    <tr>\n",
       "      <th>mean</th>\n",
       "      <td>3.523810</td>\n",
       "      <td>0.214286</td>\n",
       "    </tr>\n",
       "    <tr>\n",
       "      <th>std</th>\n",
       "      <td>7.078783</td>\n",
       "      <td>1.094013</td>\n",
       "    </tr>\n",
       "    <tr>\n",
       "      <th>min</th>\n",
       "      <td>1.000000</td>\n",
       "      <td>0.000000</td>\n",
       "    </tr>\n",
       "    <tr>\n",
       "      <th>25%</th>\n",
       "      <td>1.000000</td>\n",
       "      <td>0.000000</td>\n",
       "    </tr>\n",
       "    <tr>\n",
       "      <th>50%</th>\n",
       "      <td>2.000000</td>\n",
       "      <td>0.000000</td>\n",
       "    </tr>\n",
       "    <tr>\n",
       "      <th>75%</th>\n",
       "      <td>3.000000</td>\n",
       "      <td>0.000000</td>\n",
       "    </tr>\n",
       "    <tr>\n",
       "      <th>max</th>\n",
       "      <td>45.000000</td>\n",
       "      <td>7.000000</td>\n",
       "    </tr>\n",
       "  </tbody>\n",
       "</table>\n",
       "</div>"
      ],
      "text/plain": [
       "       tipificaciones       oxxo\n",
       "count       42.000000  42.000000\n",
       "mean         3.523810   0.214286\n",
       "std          7.078783   1.094013\n",
       "min          1.000000   0.000000\n",
       "25%          1.000000   0.000000\n",
       "50%          2.000000   0.000000\n",
       "75%          3.000000   0.000000\n",
       "max         45.000000   7.000000"
      ]
     },
     "execution_count": 9,
     "metadata": {},
     "output_type": "execute_result"
    }
   ],
   "source": [
    "pedro2.describe()"
   ]
  },
  {
   "cell_type": "code",
   "execution_count": 11,
   "metadata": {
    "collapsed": false
   },
   "outputs": [
    {
     "data": {
      "text/html": [
       "<div>\n",
       "<table border=\"1\" class=\"dataframe\">\n",
       "  <thead>\n",
       "    <tr style=\"text-align: right;\">\n",
       "      <th></th>\n",
       "      <th>Colonia</th>\n",
       "      <th>tipificaciones</th>\n",
       "      <th>oxxo</th>\n",
       "    </tr>\n",
       "  </thead>\n",
       "  <tbody>\n",
       "    <tr>\n",
       "      <th>0</th>\n",
       "      <td>BARRANCA DEL PEDREGAL</td>\n",
       "      <td>2</td>\n",
       "      <td>0</td>\n",
       "    </tr>\n",
       "    <tr>\n",
       "      <th>1</th>\n",
       "      <td>COLONIA FUENTES DEL VALLE</td>\n",
       "      <td>1</td>\n",
       "      <td>1</td>\n",
       "    </tr>\n",
       "    <tr>\n",
       "      <th>2</th>\n",
       "      <td>DEL VALLE</td>\n",
       "      <td>2</td>\n",
       "      <td>7</td>\n",
       "    </tr>\n",
       "    <tr>\n",
       "      <th>3</th>\n",
       "      <td>EL OBISPO</td>\n",
       "      <td>3</td>\n",
       "      <td>0</td>\n",
       "    </tr>\n",
       "    <tr>\n",
       "      <th>4</th>\n",
       "      <td>EL OBISPO II</td>\n",
       "      <td>2</td>\n",
       "      <td>0</td>\n",
       "    </tr>\n",
       "  </tbody>\n",
       "</table>\n",
       "</div>"
      ],
      "text/plain": [
       "                     Colonia  tipificaciones  oxxo\n",
       "0      BARRANCA DEL PEDREGAL               2     0\n",
       "1  COLONIA FUENTES DEL VALLE               1     1\n",
       "2                  DEL VALLE               2     7\n",
       "3                  EL OBISPO               3     0\n",
       "4               EL OBISPO II               2     0"
      ]
     },
     "execution_count": 11,
     "metadata": {},
     "output_type": "execute_result"
    }
   ],
   "source": [
    "pedro2.head()"
   ]
  },
  {
   "cell_type": "code",
   "execution_count": 12,
   "metadata": {
    "collapsed": false
   },
   "outputs": [
    {
     "data": {
      "image/png": "[encoded data removed]",
      "text/plain": [
       "<matplotlib.figure.Figure at 0x6445950>"
      ]
     },
     "metadata": {},
     "output_type": "display_data"
    }
   ],
   "source": [
    "# Recall latitude versus temperature scatterplot\n",
    "pedro2.plot.scatter(x='tipificaciones', y='oxxo')\n",
    "plt.show()"
   ]
  },
  {
   "cell_type": "code",
   "execution_count": 13,
   "metadata": {
    "collapsed": false
   },
   "outputs": [
    {
     "data": {
      "image/png": "[encoded data removed]",
      "text/plain": [
       "<matplotlib.figure.Figure at 0x64f13d0>"
      ]
     },
     "metadata": {},
     "output_type": "display_data"
    }
   ],
   "source": [
    "pedro2.plot.scatter(x='tipificaciones', y='oxxo')\n",
    "a,b = np.polyfit(pedro2.tipificaciones, pedro2.oxxo, 1) # Regression line is y = ax + b\n",
    "x1 = min(pedro2.oxxo)\n",
    "x2 = max(pedro2.oxxo)\n",
    "plt.plot([x1,x2], [a*x1 + b, a*x2 + b], color='red')\n",
    "plt.show()"
   ]
  },
  {
   "cell_type": "code",
   "execution_count": 14,
   "metadata": {
    "collapsed": false
   },
   "outputs": [
    {
     "name": "stdout",
     "output_type": "stream",
     "text": [
      "Correlation coefficient for tipificaciones versus oxxo: -0.0494913998843\n",
      "Correlation coefficient for tipificaciones versus oxxo: -0.0494913998843\n"
     ]
    }
   ],
   "source": [
    "# Correlation coefficients (r values)\n",
    "cc = np.corrcoef(pedro2.tipificaciones, pedro2.oxxo)[1,0]\n",
    "print ('Correlation coefficient for tipificaciones versus oxxo:', cc)\n",
    "cc = np.corrcoef(pedro2.tipificaciones, pedro2.oxxo)[1,0]\n",
    "print ('Correlation coefficient for tipificaciones versus oxxo:', cc)"
   ]
  },
  {
   "cell_type": "code",
   "execution_count": null,
   "metadata": {
    "collapsed": true
   },
   "outputs": [],
   "source": []
  }
 ],
 "metadata": {
  "kernelspec": {
   "display_name": "Python 3",
   "language": "python",
   "name": "python3"
  },
  "language_info": {
   "codemirror_mode": {
    "name": "ipython",
    "version": 3
   },
   "file_extension": ".py",
   "mimetype": "text/x-python",
   "name": "python",
   "nbconvert_exporter": "python",
   "pygments_lexer": "ipython3",
   "version": "3.6.0"
  }
 },
 "nbformat": 4,
 "nbformat_minor": 2
}
